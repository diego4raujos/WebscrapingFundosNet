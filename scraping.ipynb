{
 "cells": [
  {
   "cell_type": "code",
   "execution_count": 1,
   "metadata": {},
   "outputs": [],
   "source": [
    "# bibliotecas\n",
    "from selenium import webdriver\n",
    "from selenium.webdriver.firefox.options import Options\n",
    "from selenium.webdriver.common.by import By\n",
    "from selenium.webdriver.common.keys import Keys\n",
    "from selenium.webdriver.support.ui import Select\n",
    "import time\n",
    "import re\n",
    "import requests\n",
    "import base64\n",
    "import os"
   ]
  },
  {
   "attachments": {},
   "cell_type": "markdown",
   "metadata": {},
   "source": [
    "Como uma maneira de economizar recursos de memória, a visibilidade do navegador pode ser desativada durante a execução do script. O script abaixo mostra como pode ser realizado essa configuração para o webdriver do Firefox."
   ]
  },
  {
   "cell_type": "code",
   "execution_count": null,
   "metadata": {},
   "outputs": [],
   "source": [
    "# define a visibilidade do navegador durante a execução do script. \n",
    "# options = Options()\n",
    "# options.add_argument('-headless')"
   ]
  },
  {
   "attachments": {},
   "cell_type": "markdown",
   "metadata": {},
   "source": [
    "A criação de um diretório para armazenar os arquivos .xml baixados visa melhorar a organização do projeto. O nome do diretório corresponde ao CNPJ do Fundo de Investimento Imobiliário (FII)."
   ]
  },
  {
   "cell_type": "code",
   "execution_count": 3,
   "metadata": {},
   "outputs": [],
   "source": [
    "cnpj = '11728688000147'\n",
    "raw = f'../src/data/raw/'\n",
    "os.mkdir(f'{raw}{cnpj}')"
   ]
  },
  {
   "attachments": {},
   "cell_type": "markdown",
   "metadata": {},
   "source": [
    "A função abaixo acessa o endereço web do FundosNet e utiliza o CNPJ para especificar o domínio que contêm os documentos do FII. Definiu-se o tempo de 2 segundos para que a página carregasse por completo."
   ]
  },
  {
   "cell_type": "code",
   "execution_count": 9,
   "metadata": {},
   "outputs": [],
   "source": [
    "def acessa_pagina_web(cnpj):\n",
    "    navegador = webdriver.Firefox()\n",
    "    URL = 'https://fnet.bmfbovespa.com.br/fnet/publico/abrirGerenciadorDocumentosCVM?cnpjFundo='\n",
    "    navegador.get(''.join([URL, cnpj]))\n",
    "    time.sleep(2)\n",
    "    return navegador"
   ]
  },
  {
   "cell_type": "code",
   "execution_count": null,
   "metadata": {},
   "outputs": [],
   "source": [
    "navegador = acessa_pagina_web(cnpj)"
   ]
  },
  {
   "attachments": {},
   "cell_type": "markdown",
   "metadata": {},
   "source": [
    "Na página web acessada há a possibilidade de filtrar os documentos desejados conforme características específicas. A função procura o id do botão e efetua o clique sobre ele.\n"
   ]
  },
  {
   "cell_type": "code",
   "execution_count": null,
   "metadata": {},
   "outputs": [],
   "source": [
    "def pressiona_botao_exibir_filtros(id):\n",
    "    exibir_filtros = navegador.find_element(By.ID, id)\n",
    "    exibir_filtros.click()\n",
    "    time.sleep(2)"
   ]
  },
  {
   "cell_type": "code",
   "execution_count": null,
   "metadata": {},
   "outputs": [],
   "source": [
    "pressiona_botao_exibir_filtros('showFiltros')"
   ]
  },
  {
   "attachments": {},
   "cell_type": "markdown",
   "metadata": {},
   "source": [
    "Uma janela suspensa aparecerá com várias opções de filtragem. As que nos interessa são Categoria, Tipo e Situação. Essas opções de filtragem são composta de elementos dos tipos dropdown, campo de texto e botão. Um clique será executado em cada dropdown para que seja mostrado o campo de texto e suas opções. Em vez de clicar sobre a opção deseja, optou-se por informar o seu nome no campo de texto. Um clique é efetuado no botão Filtrar para executar a filtragem dos documentos."
   ]
  },
  {
   "cell_type": "code",
   "execution_count": null,
   "metadata": {},
   "outputs": [],
   "source": [
    "def pressiona_dropdown(id):\n",
    "    dropdown = navegador.find_element(By.ID, id)\n",
    "    dropdown.click()\n",
    "    time.sleep(2)\n",
    "\n",
    "def informa_valor_campo_texto(id, categoria):\n",
    "    campo_texto = navegador.find_element(By.ID, id)\n",
    "    campo_texto.send_keys(categoria, Keys.ENTER)\n",
    "    time.sleep(2)\n",
    "\n",
    "def pressiona_botao_filtrar(id):\n",
    "    filtrar = navegador.find_element(By.ID, id)\n",
    "    filtrar.click()\n",
    "    time.sleep(2)"
   ]
  },
  {
   "cell_type": "code",
   "execution_count": null,
   "metadata": {},
   "outputs": [],
   "source": [
    "pressiona_dropdown('select2-chosen-2')  # Categoria\n",
    "informa_valor_campo_texto('s2id_autogen2_search', 'Informes Periódicos')\n",
    "\n",
    "pressiona_dropdown('select2-chosen-3')  # Tipo\n",
    "informa_valor_campo_texto('s2id_autogen3_search', 'Informe Mensal Estruturado')\n",
    "\n",
    "pressiona_dropdown('select2-chosen-5')  # Situação\n",
    "informa_valor_campo_texto('s2id_autogen5_search', 'Ativo')\n"
   ]
  },
  {
   "attachments": {},
   "cell_type": "markdown",
   "metadata": {},
   "source": [
    "Após a aplicação de todos os filtros, é possível ainda modificar a quantidade de registros que podem ser visualizados em uma única página. A função abaixo procura pelo o elemento correspondente à modificação da visibilidade de registros e redefine para a quantidade de registros desejados."
   ]
  },
  {
   "cell_type": "code",
   "execution_count": null,
   "metadata": {},
   "outputs": [],
   "source": [
    "def modifica_numero_registros_visiveis(num, nome):\n",
    "    mostrar_registros = navegador.find_element(By.NAME, nome)\n",
    "    registros = Select(mostrar_registros)\n",
    "    registros.select_by_visible_text(str(num))\n",
    "    time.sleep(2)"
   ]
  },
  {
   "cell_type": "code",
   "execution_count": null,
   "metadata": {},
   "outputs": [],
   "source": [
    "pressiona_botao_filtrar('filtrar')\n",
    "modifica_numero_registros_visiveis(100, 'tblDocumentosEnviados_length')"
   ]
  },
  {
   "attachments": {},
   "cell_type": "markdown",
   "metadata": {},
   "source": [
    "A página web no seu estado atual disponibiliza a visualização e o download dos documentos. A função obtém todos os links disponíveis na página."
   ]
  },
  {
   "cell_type": "code",
   "execution_count": null,
   "metadata": {},
   "outputs": [],
   "source": [
    "def obtem_links(atributo):\n",
    "    todos_links = navegador.find_elements(By.TAG_NAME, 'a')\n",
    "    links = []\n",
    "    for link in todos_links:\n",
    "        links.append(link.get_attribute(atributo))\n",
    "    return links"
   ]
  },
  {
   "cell_type": "code",
   "execution_count": null,
   "metadata": {},
   "outputs": [],
   "source": [
    "links = obtem_links('href')"
   ]
  },
  {
   "attachments": {},
   "cell_type": "markdown",
   "metadata": {},
   "source": [
    "Com os links armazenados em uma lista, não é mais necessário manter o navegador aberto. Para economizar espação de memória ele pode ser finalizados."
   ]
  },
  {
   "cell_type": "code",
   "execution_count": null,
   "metadata": {},
   "outputs": [],
   "source": [
    "navegador.quit()"
   ]
  },
  {
   "attachments": {},
   "cell_type": "markdown",
   "metadata": {},
   "source": [
    "Alguns elementos da lista de link não possuem um tipo definido. Estes serão removidos. Além destes, serão removidos também link não pertinentes a downlods."
   ]
  },
  {
   "cell_type": "code",
   "execution_count": null,
   "metadata": {},
   "outputs": [],
   "source": [
    "def remove_tipo_indefinido(lista):\n",
    "    links_definidos = [link for link in lista if link is not None]\n",
    "    return links_definidos\n",
    "\n",
    "def remove_links_invalidos(lista):\n",
    "    nome_filtro = 'downloadDocumento'\n",
    "    links = [link for link in lista if nome_filtro in link]\n",
    "    return links"
   ]
  },
  {
   "cell_type": "code",
   "execution_count": null,
   "metadata": {},
   "outputs": [],
   "source": [
    "links = remove_tipo_indefinido(links)\n",
    "links_validos = remove_links_invalidos(links)"
   ]
  },
  {
   "attachments": {},
   "cell_type": "markdown",
   "metadata": {},
   "source": [
    "Por fim, a função abaixo executar os downloads dos informes de rendimento estruturados (no formato xml)a partir da lista de links obtidas anteriormente."
   ]
  },
  {
   "cell_type": "code",
   "execution_count": null,
   "metadata": {},
   "outputs": [],
   "source": [
    "def download_arquivo(caminho):\n",
    "    for link in links_validos:\n",
    "        doc = requests.get(link, allow_redirects=True, verify=True)\n",
    "        nome = re.findall('filename=\"(.+)\"', doc.headers.get('content-disposition'))[0]\n",
    "        diretorio = ''.join([caminho, nome])\n",
    "\n",
    "        with open(diretorio, 'wb') as arquivo:\n",
    "            arquivo.write(base64.b64decode(doc.content))\n",
    "        time.sleep(0.5)"
   ]
  },
  {
   "cell_type": "code",
   "execution_count": null,
   "metadata": {},
   "outputs": [],
   "source": [
    "download_arquivo(f'{raw}{cnpj}/')"
   ]
  },
  {
   "cell_type": "code",
   "execution_count": null,
   "metadata": {},
   "outputs": [],
   "source": [
    "print('Download dos arquivos xml concluído')"
   ]
  },
  {
   "cell_type": "code",
   "execution_count": null,
   "metadata": {},
   "outputs": [],
   "source": [
    "import os"
   ]
  }
 ],
 "metadata": {
  "kernelspec": {
   "display_name": "env",
   "language": "python",
   "name": "python3"
  },
  "language_info": {
   "codemirror_mode": {
    "name": "ipython",
    "version": 3
   },
   "file_extension": ".py",
   "mimetype": "text/x-python",
   "name": "python",
   "nbconvert_exporter": "python",
   "pygments_lexer": "ipython3",
   "version": "3.10.6"
  },
  "orig_nbformat": 4,
  "vscode": {
   "interpreter": {
    "hash": "b9f6b9ec4508200b5911fd13e980ba556d25ec882987c8093fcc97b0eb85dbc7"
   }
  }
 },
 "nbformat": 4,
 "nbformat_minor": 2
}
